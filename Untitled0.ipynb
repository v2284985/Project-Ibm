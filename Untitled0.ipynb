{
  "nbformat": 4,
  "nbformat_minor": 0,
  "metadata": {
    "colab": {
      "provenance": []
    },
    "kernelspec": {
      "name": "python3",
      "display_name": "Python 3"
    },
    "language_info": {
      "name": "python"
    }
  },
  "cells": [
    {
      "cell_type": "code",
      "execution_count": null,
      "metadata": {
        "colab": {
          "base_uri": "https://localhost:8080/"
        },
        "id": "5yyOpkKZsnaD",
        "outputId": "3a3c317d-c3b6-4916-d59f-d63d15e8ccf6"
      },
      "outputs": [
        {
          "output_type": "stream",
          "name": "stdout",
          "text": [
            "0    P\n",
            "1    A\n",
            "2    N\n",
            "3    D\n",
            "4    A\n",
            "5    S\n",
            "dtype: object\n"
          ]
        }
      ],
      "source": [
        "import pandas as pd\n",
        "import numpy as np\n",
        "info = np.array(['P','A','N','D','A','S'])\n",
        "a=pd.Series(info)\n",
        "print(a)"
      ]
    },
    {
      "cell_type": "code",
      "source": [
        "import pandas as pd\n",
        "import matplotlib.pyplot as plt\n",
        "name = ['Vikas','Vicky','Vivek','I']\n",
        "id = ['101','102','103','104']\n",
        "name_series = pd.Series(name)\n",
        "id_series = pd.Series(id)\n",
        "frame = {'Name':name_series,'ID':id_series}\n",
        "result = pd.DataFrame(frame)\n",
        "print(result)\n",
        "\n",
        "\n"
      ],
      "metadata": {
        "colab": {
          "base_uri": "https://localhost:8080/"
        },
        "id": "DY9AKDmmtYLK",
        "outputId": "ca87a5bb-705c-427d-fe99-0c1eabf067af"
      },
      "execution_count": null,
      "outputs": [
        {
          "output_type": "stream",
          "name": "stdout",
          "text": [
            "    Name   ID\n",
            "0  Vikas  101\n",
            "1  Vicky  102\n",
            "2  Vivek  103\n",
            "3      I  104\n"
          ]
        }
      ]
    },
    {
      "cell_type": "code",
      "source": [
        "import pandas as pd\n",
        "df = pd.DataFrame()\n",
        "print(df)"
      ],
      "metadata": {
        "colab": {
          "base_uri": "https://localhost:8080/"
        },
        "id": "g2_uybrZwdam",
        "outputId": "b930a68e-9c58-48d0-f7b1-38fea517d110"
      },
      "execution_count": null,
      "outputs": [
        {
          "output_type": "stream",
          "name": "stdout",
          "text": [
            "Empty DataFrame\n",
            "Columns: []\n",
            "Index: []\n"
          ]
        }
      ]
    },
    {
      "cell_type": "code",
      "source": [
        "import pandas as pd\n",
        "x = ['Vikas','vicky','both','Kaushal']\n",
        "df = pd.DataFrame(x)\n",
        "print(df)\n"
      ],
      "metadata": {
        "colab": {
          "base_uri": "https://localhost:8080/"
        },
        "id": "h3QjKvTnxXkN",
        "outputId": "49639808-9e60-41ab-b9b9-17afbdb0b678"
      },
      "execution_count": null,
      "outputs": [
        {
          "output_type": "stream",
          "name": "stdout",
          "text": [
            "         0\n",
            "0    Vikas\n",
            "1    vicky\n",
            "2     both\n",
            "3  Kaushal\n"
          ]
        }
      ]
    },
    {
      "cell_type": "code",
      "source": [
        "import pandas as pd\n",
        "info = {'NAME':['vikas','vicky'],     'DEPARTMENT':['M.Tech','B.Tech']}\n",
        "df = pd.DataFrame(info)\n",
        "print(df)\n"
      ],
      "metadata": {
        "colab": {
          "base_uri": "https://localhost:8080/"
        },
        "id": "I1V7fvJbx8H0",
        "outputId": "87f035ad-464a-47ed-a872-612e997002b5"
      },
      "execution_count": null,
      "outputs": [
        {
          "output_type": "stream",
          "name": "stdout",
          "text": [
            "    NAME DEPARTMENT\n",
            "0  vikas     M.Tech\n",
            "1  vicky     B.Tech\n"
          ]
        }
      ]
    },
    {
      "cell_type": "code",
      "source": [
        "import pandas as pd\n",
        "info = {'Int':pd.Series(['1','2','3','4','5','6','7','8','9'], index=['a','b','c','d','e','f','g','h','i']),'Into':pd.Series(['15','28','39','40','55','66','78','81','90'],index=['a','b','c','d','e','f','g','h','i'])}\n",
        "d1 = pd.DataFrame(info)\n",
        "print(d1)\n",
        "\n",
        "\n"
      ],
      "metadata": {
        "colab": {
          "base_uri": "https://localhost:8080/"
        },
        "id": "nWbiebrozyo4",
        "outputId": "1346f402-3e72-4c50-c1e9-130f9fedbe00"
      },
      "execution_count": null,
      "outputs": [
        {
          "output_type": "stream",
          "name": "stdout",
          "text": [
            "  Int Into\n",
            "a   1   15\n",
            "b   2   28\n",
            "c   3   39\n",
            "d   4   40\n",
            "e   5   55\n",
            "f   6   66\n",
            "g   7   78\n",
            "h   8   81\n",
            "i   9   90\n"
          ]
        }
      ]
    },
    {
      "cell_type": "code",
      "source": [
        "import pandas as pd\n",
        "import numpy as np\n",
        "a = pd.Series(['java','cpp','c#',np.nan])\n",
        "a.map({'java':'core'})"
      ],
      "metadata": {
        "colab": {
          "base_uri": "https://localhost:8080/"
        },
        "id": "HocgHxUQ3fSj",
        "outputId": "acd66c70-3463-42f4-83da-ab0c7d5d3738"
      },
      "execution_count": null,
      "outputs": [
        {
          "output_type": "execute_result",
          "data": {
            "text/plain": [
              "0    core\n",
              "1     NaN\n",
              "2     NaN\n",
              "3     NaN\n",
              "dtype: object"
            ]
          },
          "metadata": {},
          "execution_count": 14
        }
      ]
    },
    {
      "cell_type": "code",
      "source": [
        "import pandas as pd\n",
        "import numpy as np\n",
        "a = pd.Series(['Java','Python','C++',np.nan])\n",
        "a.map({'java':'core'})\n",
        "a.map('i like {}'.format,na_action='ignore')\n"
      ],
      "metadata": {
        "colab": {
          "base_uri": "https://localhost:8080/"
        },
        "id": "nObFsJLW7Ht3",
        "outputId": "146885cb-502e-4723-b1fc-3ab381494c9b"
      },
      "execution_count": null,
      "outputs": [
        {
          "output_type": "execute_result",
          "data": {
            "text/plain": [
              "0      i like Java\n",
              "1    i like Python\n",
              "2       i like C++\n",
              "3              NaN\n",
              "dtype: object"
            ]
          },
          "metadata": {},
          "execution_count": 21
        }
      ]
    },
    {
      "cell_type": "code",
      "source": [
        "import array\n",
        "arr = array.array(\"I\",[2,4,6,8,10,12])\n",
        "print(\"New Created Array: \",end=\"\")\n",
        "for i in range(0,6):\n",
        "  print(arr[i],end=\"\")\n",
        "  print(\"\\r\")\n",
        "\n",
        "\n"
      ],
      "metadata": {
        "id": "1IZtDenx8A0L",
        "colab": {
          "base_uri": "https://localhost:8080/"
        },
        "outputId": "018285b3-2aeb-498f-c1e7-666135668679"
      },
      "execution_count": 3,
      "outputs": [
        {
          "output_type": "stream",
          "name": "stdout",
          "text": [
            "New Created Array: 2\r\n",
            "4\r\n",
            "6\r\n",
            "8\r\n",
            "10\r\n",
            "12\r\n"
          ]
        }
      ]
    },
    {
      "cell_type": "code",
      "source": [
        "import pandas as pd\n",
        "dict={'Name':[\"Vikas\",\"Vicky\",\"Viku\"],'age':[\"20\",\"19\",\"18\"]}\n",
        "info = pd.DataFrame(dict,index=[True,True,False])\n",
        "print(info)\n"
      ],
      "metadata": {
        "colab": {
          "base_uri": "https://localhost:8080/"
        },
        "id": "HqO0r0NsUJmm",
        "outputId": "e50ed18a-43d6-44b7-bef7-04ed73778fa1"
      },
      "execution_count": 4,
      "outputs": [
        {
          "output_type": "stream",
          "name": "stdout",
          "text": [
            "        Name age\n",
            "True   Vikas  20\n",
            "True   Vicky  19\n",
            "False   Viku  18\n"
          ]
        }
      ]
    },
    {
      "cell_type": "code",
      "source": [
        "import numpy as np\n",
        "arr = np.arange(16)\n",
        "print(\"The original array is:\\n\",arr)\n",
        "arr=np.arange(16).reshape(2,8)\n",
        "print(\"\\nreshaped array\\n\",arr)\n",
        "arr=np.arange(16).reshape(8,2)\n",
        "print(\"\\nreshaped array\\n\",arr)\n"
      ],
      "metadata": {
        "colab": {
          "base_uri": "https://localhost:8080/"
        },
        "id": "nPpKNedcVmfu",
        "outputId": "d519b804-ab3d-480b-d457-471a7fb97a2e"
      },
      "execution_count": 7,
      "outputs": [
        {
          "output_type": "stream",
          "name": "stdout",
          "text": [
            "The original array is:\n",
            " [ 0  1  2  3  4  5  6  7  8  9 10 11 12 13 14 15]\n",
            "\n",
            "reshaped array\n",
            " [[ 0  1  2  3  4  5  6  7]\n",
            " [ 8  9 10 11 12 13 14 15]]\n",
            "\n",
            "reshaped array\n",
            " [[ 0  1]\n",
            " [ 2  3]\n",
            " [ 4  5]\n",
            " [ 6  7]\n",
            " [ 8  9]\n",
            " [10 11]\n",
            " [12 13]\n",
            " [14 15]]\n"
          ]
        }
      ]
    },
    {
      "cell_type": "code",
      "source": [],
      "metadata": {
        "id": "IGG5JeCGYdZ1"
      },
      "execution_count": null,
      "outputs": []
    }
  ]
}